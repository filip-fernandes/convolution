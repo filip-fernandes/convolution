{
 "cells": [
  {
   "cell_type": "code",
   "execution_count": 1,
   "id": "108e1673",
   "metadata": {},
   "outputs": [],
   "source": [
    "import torch\n",
    "import torch.nn as nn\n",
    "import torch.nn.functional as F\n",
    "import matplotlib.pyplot as plt\n",
    "from torchvision import datasets, transforms\n",
    "import numpy as np\n",
    "import math\n",
    "import pandas as pd\n",
    "import random\n",
    "%matplotlib inline"
   ]
  },
  {
   "cell_type": "code",
   "execution_count": 2,
   "id": "c26e6329",
   "metadata": {},
   "outputs": [],
   "source": [
    "device = 'cuda' if torch.cuda.is_available() else 'cpu'\n",
    "g = torch.Generator().manual_seed(47)\n",
    "random.seed(47)\n",
    "np.random.seed(47)"
   ]
  },
  {
   "cell_type": "code",
   "execution_count": 189,
   "id": "7ae1c46b",
   "metadata": {},
   "outputs": [],
   "source": [
    "# Define a transform to normalize the data\n",
    "transform = transforms.Compose([transforms.ToTensor(),\n",
    "                                transforms.Normalize((0.5,), (0.5,))])\n",
    "\n",
    "# Download and load the training data\n",
    "trainset = datasets.MNIST('MNIST_data/', download=True, train=True, transform=transform)\n",
    "trainloader = torch.utils.data.DataLoader(trainset, batch_size=24, shuffle=True)\n",
    "\n",
    "# Download and load the test data\n",
    "testset = datasets.MNIST('MNIST_data/', download=True, train=False, transform=transform)\n",
    "testloader = torch.utils.data.DataLoader(testset, batch_size=24, shuffle=True)\n"
   ]
  },
  {
   "cell_type": "code",
   "execution_count": 228,
   "id": "d95df0af",
   "metadata": {},
   "outputs": [],
   "source": [
    "class Conv2d(nn.Module):\n",
    "    def __init__(\n",
    "        self,\n",
    "        in_channels: int,\n",
    "        out_channels: int,\n",
    "        kernel: tuple[int] | int, \n",
    "        stride: tuple[int] | int, \n",
    "        dilation: int=1, \n",
    "        bias: bool=True,\n",
    "        padding: bool=False\n",
    "    ) -> None:\n",
    "        super().__init__()\n",
    "        kernel = (kernel, kernel) if type(kernel) is int else kernel\n",
    "        stride = (stride, stride) if type(stride) is int else stride                                   \n",
    "        \n",
    "        k = math.sqrt((1 / (in_channels * kernel[0] * kernel[1]))) # interval for optimal initialization\n",
    "        \n",
    "        weight_tensor = torch.randn((out_channels, in_channels * kernel[0] * kernel[1])).uniform_(-k, k)\n",
    "        self.kernel = nn.Parameter(weight_tensor, requires_grad=True).to(device)\n",
    "        \n",
    "        bias_tensor = torch.randn((out_channels,)).uniform_(-k, k)\n",
    "        self.bias = nn.Parameter(bias_tensor, requires_grad=True).to(device) if bias is True else 0\n",
    "        \n",
    "        self.out_channels = out_channels\n",
    "        self.dilation = dilation\n",
    "        self.kernel_i, self.kernel_j = kernel\n",
    "        self.stride_i, self.stride_j = stride\n",
    "        self.padding = padding\n",
    "        \n",
    "    def forward(self, x: torch.tensor) -> torch.tensor:\n",
    "        if self.padding:\n",
    "            pad_size_i = self.divide_pad(self.kernel.shape[0] - 1)\n",
    "            pad_size_j = self.divide_pad(self.kernel.shape[1] - 1)\n",
    "            x = F.pad(x, (*pad_size_j, *pad_size_i))\n",
    "\n",
    "        B, C, I, J = x.shape # Batch, Channels, I dim, J dim\n",
    "        \n",
    "        # strides\n",
    "        external_b, external_c, internal_i, internal_j = x.stride()\n",
    "        \n",
    "        # external stides (the stride outside the kernel)\n",
    "        external_stride = external_b, self.stride_i * internal_i, self.stride_j * internal_j, external_c\n",
    "        \n",
    "        # output image dimensions\n",
    "        out_i = math.floor(((I - self.dilation * (self.kernel_i - 1) - 1) / self.stride_i) + 1)\n",
    "        out_j = math.floor(((J - self.dilation * (self.kernel_j - 1) - 1) / self.stride_j) + 1)\n",
    "                \n",
    "        shape = (B, C, out_i, out_j, self.kernel_i, self.kernel_j)\n",
    "        stride = (*external_stride, internal_i * self.dilation, internal_j * self.dilation)\n",
    "        windows = x.as_strided(size=shape, stride=stride).reshape(B, out_i, out_j, C * self.kernel_i * self.kernel_j)\n",
    "        \n",
    "        output = ((windows @ self.kernel.T) + self.bias).transpose(1, -1).transpose(2, -1)\n",
    "\n",
    "        return output\n",
    "    \n",
    "    def divide_pad(self, num):\n",
    "        quotient = num // 2 \n",
    "        remainder = num % 2 \n",
    "        return [quotient, quotient + remainder]\n"
   ]
  },
  {
   "cell_type": "code",
   "execution_count": 229,
   "id": "fdc75bc0",
   "metadata": {},
   "outputs": [
    {
     "data": {
      "text/plain": [
       "tensor([[10.4159, 11.9170,  6.0893,  ...,  4.5746, 11.6242,  6.6360],\n",
       "        [ 5.5047, 11.2884,  8.1878,  ...,  5.3853, 10.4238,  8.0188],\n",
       "        [ 4.3715,  9.1507,  3.4786,  ..., 11.1010, 11.4270,  5.9584]])"
      ]
     },
     "execution_count": 229,
     "metadata": {},
     "output_type": "execute_result"
    }
   ],
   "source": [
    "a = torch.tensor(3).float()\n",
    "b = torch.tensor(6).float()\n",
    "\n",
    "r = torch.randn(3,500).uniform_(a,b*2)\n",
    "r"
   ]
  },
  {
   "cell_type": "code",
   "execution_count": 230,
   "id": "f7c0c89c",
   "metadata": {},
   "outputs": [],
   "source": [
    "class ConvNet(nn.Module):\n",
    "    def __init__(self, input_dim, fan_in, fan_out, kernel_dim, stride, hidden_dim, output_dim, dilation=1):\n",
    "        super().__init__()\n",
    "        self.convo1 = nn.Conv2d(fan_in, fan_out, kernel_dim, stride)\n",
    "        self.convo2 = nn.Conv2d(fan_out, 5, kernel_dim, stride)\n",
    "        #print(input_dim, dilation, kernel_dim, stride)\n",
    "        convo_output_dim = math.floor(((input_dim[0] - dilation * (kernel_dim - 1) - 1) / stride) + 1)\n",
    "        convo_out2 = math.floor(((convo_output_dim - dilation * (5 - 1) - 1) / stride) + 1)\n",
    "        \n",
    "        self.flatten = nn.Flatten(start_dim=1, end_dim=-1)\n",
    "        self.linear1 = nn.Linear(convo_out2**2 * 5, hidden_dim, bias=True)\n",
    "        self.relu = nn.ReLU()\n",
    "        self.linear2 = nn.Linear(hidden_dim, output_dim)\n",
    "        \n",
    "    def forward(self, x, y=None, infering=False):\n",
    "        start = self.convo1(x)\n",
    "        #print(start.shape)\n",
    "        x = self.convo2(start)\n",
    "        #print(x.shape)\n",
    "        #print(start.shape)\n",
    "        x = self.flatten(x)\n",
    "        x = self.linear1(x)\n",
    "        x = self.relu(x)\n",
    "        logits = self.linear2(x) * 0.1\n",
    "        \n",
    "        if not infering:\n",
    "            #print(y.shape)\n",
    "            #print(logits.shape)\n",
    "            loss = F.cross_entropy(logits, y)\n",
    "            return logits, loss\n",
    "        return logits, _\n"
   ]
  },
  {
   "cell_type": "code",
   "execution_count": 231,
   "id": "5af9ebe5",
   "metadata": {},
   "outputs": [],
   "source": [
    "fan_in = 1\n",
    "fan_out = 32\n",
    "input_dim = (28,28)\n",
    "kernel_dim = 5\n",
    "stride = 1\n",
    "hidden_dim = 128\n",
    "n_filters = 16\n",
    "output_dim = 10"
   ]
  },
  {
   "cell_type": "code",
   "execution_count": 232,
   "id": "358afff4",
   "metadata": {},
   "outputs": [],
   "source": [
    "model = ConvNet(input_dim, fan_in, fan_out, kernel_dim, stride, hidden_dim, output_dim = 10)\n",
    "model = model.to(device);"
   ]
  },
  {
   "cell_type": "code",
   "execution_count": 233,
   "id": "40737ecc",
   "metadata": {},
   "outputs": [
    {
     "name": "stdout",
     "output_type": "stream",
     "text": [
      "loss 2.301924\n",
      "training completed\n",
      "\n"
     ]
    }
   ],
   "source": [
    "opt = torch.optim.AdamW(model.parameters(), lr=0.0001)\n",
    "loss_tensor = torch.zeros(len(trainloader))\n",
    "for i, sample in enumerate(trainloader):\n",
    "    xb = sample[0].squeeze(0).to(device)\n",
    "    yb = sample[1].squeeze(0).to(device)\n",
    "    #print(xb.shape, yb.shape)\n",
    "    logits, loss = model(xb, yb)\n",
    "    opt.zero_grad(set_to_none=True)\n",
    "    loss.backward()\n",
    "    opt.step()\n",
    "    loss_tensor[i] = loss\n",
    "    if i == 0:\n",
    "        print(f'loss {loss.item():.6f}')\n",
    "        \n",
    "print('training completed\\n')"
   ]
  },
  {
   "cell_type": "code",
   "execution_count": 234,
   "id": "14a77253",
   "metadata": {},
   "outputs": [
    {
     "data": {
      "text/plain": [
       "[<matplotlib.lines.Line2D at 0x21e7b0ce150>]"
      ]
     },
     "execution_count": 234,
     "metadata": {},
     "output_type": "execute_result"
    },
    {
     "data": {
      "image/png": "[encoded data removed]",
      "text/plain": [
       "<Figure size 640x480 with 1 Axes>"
      ]
     },
     "metadata": {},
     "output_type": "display_data"
    }
   ],
   "source": [
    "plt.plot(range(len(trainloader)), loss_tensor.tolist())"
   ]
  },
  {
   "cell_type": "code",
   "execution_count": 56,
   "id": "20ce5dbd",
   "metadata": {},
   "outputs": [],
   "source": [
    "@torch.no_grad()\n",
    "def estimate_loss(eval_iters):\n",
    "    # estimate the loss. the higher eval_iters is, the more precise the loss will be\n",
    "    print('estimating loss...')\n",
    "    model.eval()\n",
    "    correct = 0\n",
    "    losses = torch.zeros(eval_iters + 1)\n",
    "    for i, item in enumerate(testloader):\n",
    "        if i == eval_iters:\n",
    "            break\n",
    "        #print(len(item[0]))\n",
    "        xb = item[0].squeeze(0).to(device)\n",
    "        yb = item[1].squeeze(0).to(device)\n",
    "        logits, loss = model(xb, yb)\n",
    "        losses[i] = loss.item()\n",
    "        correct += torch.sum((yb == logits.argmax(1))).item()\n",
    "            \n",
    "        \n",
    "    out = losses.mean().item()\n",
    "    model.train()\n",
    "    print(f'precision of {correct/(16*eval_iters)}')\n",
    "    print(correct, 'correct')\n",
    "    print(f'estimated loss: {out}\\n')"
   ]
  },
  {
   "cell_type": "code",
   "execution_count": 57,
   "id": "252795af",
   "metadata": {},
   "outputs": [
    {
     "name": "stdout",
     "output_type": "stream",
     "text": [
      "estimating loss...\n",
      "torch.Size([512, 10])\n",
      "torch.Size([512, 10])\n",
      "torch.Size([512, 10])\n",
      "torch.Size([512, 10])\n",
      "torch.Size([512, 10])\n",
      "torch.Size([512, 10])\n",
      "torch.Size([512, 10])\n",
      "torch.Size([512, 10])\n",
      "torch.Size([512, 10])\n",
      "torch.Size([512, 10])\n",
      "torch.Size([512, 10])\n",
      "torch.Size([512, 10])\n",
      "torch.Size([512, 10])\n",
      "torch.Size([512, 10])\n",
      "torch.Size([512, 10])\n",
      "torch.Size([512, 10])\n",
      "torch.Size([512, 10])\n",
      "torch.Size([512, 10])\n",
      "torch.Size([512, 10])\n",
      "torch.Size([272, 10])\n",
      "precision of 20.715625\n",
      "6629 correct\n",
      "estimated loss: 25.639543533325195\n",
      "\n"
     ]
    }
   ],
   "source": [
    "estimate_loss(len(testloader))"
   ]
  },
  {
   "cell_type": "code",
   "execution_count": 28,
   "id": "43eb5f53",
   "metadata": {},
   "outputs": [
    {
     "data": {
      "text/plain": [
       "138"
      ]
     },
     "execution_count": 28,
     "metadata": {},
     "output_type": "execute_result"
    }
   ],
   "source": [
    "\n",
    "len(testloader) + len(trainloader)"
   ]
  },
  {
   "cell_type": "code",
   "execution_count": 29,
   "id": "bfdf90ff",
   "metadata": {},
   "outputs": [],
   "source": [
    "x = torch.tensor([[\n",
    "    [1, 2, 3, 4, 5, 6, 7, 8, 9, 10],\n",
    "    [11, 12, 13, 14, 15, 16, 17, 18, 19, 20],\n",
    "    [21, 22, 23, 24, 25, 26, 27, 28, 29, 30],\n",
    "    [31, 32, 33, 34, 35, 36, 37, 38, 39, 40],\n",
    "    [41, 42, 43, 44, 45, 46, 47, 48, 49, 50],\n",
    "    [51, 52, 53, 54, 55, 56, 57, 58, 59, 60],\n",
    "    [61, 62, 63, 64, 65, 66, 67, 68, 69, 70],\n",
    "    [71, 72, 73, 74, 75, 76, 77, 78, 79, 80],\n",
    "    [81, 82, 83, 84, 85, 86, 87, 88, 89, 90],\n",
    "    [91, 92, 93, 94, 95, 96, 97, 98, 99, 100],\n",
    "],\n",
    "[\n",
    "    [1, 2, 3, 4, 5, 6, 7, 8, 9, 10],\n",
    "    [11, 12, 13, 14, 15, 16, 17, 18, 19, 20],\n",
    "    [21, 22, 23, 24, 25, 26, 27, 28, 29, 30],\n",
    "    [31, 32, 33, 34, 35, 36, 37, 38, 39, 40],\n",
    "    [41, 42, 43, 44, 45, 46, 47, 48, 49, 50],\n",
    "    [51, 52, 53, 54, 55, 56, 57, 58, 59, 60],\n",
    "    [61, 62, 63, 64, 65, 66, 67, 68, 69, 70],\n",
    "    [71, 72, 73, 74, 75, 76, 77, 78, 79, 80],\n",
    "    [81, 82, 83, 84, 85, 86, 87, 88, 89, 90],\n",
    "    [91, 92, 93, 94, 95, 96, 97, 98, 99, 100],\n",
    "]]).float()\n",
    "kernel_dim = 3\n",
    "x.shape\n",
    "\n",
    "x2 = torch.tensor([\n",
    "    [1, 2, 3, 4, 5],\n",
    "    [6, 7, 8, 9, 10],\n",
    "    [11, 12, 13, 14, 15],\n",
    "    [16, 17, 18, 19, 20],\n",
    "    [21, 22, 23, 24, 25],\n",
    "])"
   ]
  },
  {
   "cell_type": "code",
   "execution_count": 30,
   "id": "4142241f",
   "metadata": {},
   "outputs": [
    {
     "data": {
      "text/plain": [
       "(100, 10, 1)"
      ]
     },
     "execution_count": 30,
     "metadata": {},
     "output_type": "execute_result"
    }
   ],
   "source": [
    "x.stride()"
   ]
  },
  {
   "cell_type": "code",
   "execution_count": 31,
   "id": "3ab59d74",
   "metadata": {},
   "outputs": [],
   "source": [
    "z = x.as_strided(size=(2, 8, 8, 3, 3), stride=(100, 10, 1, 10, 1))"
   ]
  },
  {
   "cell_type": "code",
   "execution_count": 32,
   "id": "3093c1f1",
   "metadata": {},
   "outputs": [
    {
     "data": {
      "text/plain": [
       "tensor(True)"
      ]
     },
     "execution_count": 32,
     "metadata": {},
     "output_type": "execute_result"
    }
   ],
   "source": [
    "torch.all(z[0] == z[1])"
   ]
  },
  {
   "cell_type": "code",
   "execution_count": 33,
   "id": "2cf37c22",
   "metadata": {},
   "outputs": [
    {
     "data": {
      "text/plain": [
       "tensor([[ 0,  0,  0,  0,  0,  0,  0],\n",
       "        [ 0,  1,  2,  3,  4,  5,  0],\n",
       "        [ 0,  6,  7,  8,  9, 10,  0],\n",
       "        [ 0, 11, 12, 13, 14, 15,  0],\n",
       "        [ 0, 16, 17, 18, 19, 20,  0],\n",
       "        [ 0, 21, 22, 23, 24, 25,  0],\n",
       "        [ 0,  0,  0,  0,  0,  0,  0]])"
      ]
     },
     "execution_count": 33,
     "metadata": {},
     "output_type": "execute_result"
    }
   ],
   "source": [
    "x2 = F.pad(x2, (1, 1, 1, 1))\n",
    "x2"
   ]
  },
  {
   "cell_type": "code",
   "execution_count": 34,
   "id": "4142eb98",
   "metadata": {},
   "outputs": [],
   "source": [
    "x = x.squeeze()"
   ]
  },
  {
   "cell_type": "code",
   "execution_count": 35,
   "id": "fbe5cdd7",
   "metadata": {},
   "outputs": [],
   "source": [
    "class Conv2ddd(nn.Module):\n",
    "    def __init__(\n",
    "        self, \n",
    "        stride: tuple[int], \n",
    "        kernel: tuple[int], \n",
    "        dilation: int=1, \n",
    "        bias: bool=True\n",
    "    ) -> torch.tensor:\n",
    "        super().__init__()\n",
    "        self.kernel = nn.Parameter(torch.randn((kernel), generator=g), requires_grad=True).to(device)\n",
    "        self.dilation = dilation\n",
    "        self.kernel_i, self.kernel_j = kernel\n",
    "        self.stride_i, self.stride_j = stride\n",
    "        #self.bias = nn.Parameter(torch.randn((self.output_dim * self.output_dim), generator=g), requires_grad=True)\n",
    "    \n",
    "    def forward(self, x: torch.tensor) -> torch.tensor:\n",
    "        I, J = x.shape\n",
    "        \n",
    "        # internal strides (the stride inside the kernel, which is affected by dilation)\n",
    "        internal_i, internal_j = x.stride()\n",
    "        \n",
    "        # external stides (the stride outside the kernel)\n",
    "        external_stride = self.stride_i * internal_i, self.stride_j * internal_j \n",
    "        \n",
    "        # output image dimensions\n",
    "        out_i = int(round((1 + I - self.kernel_i - ((self.kernel_i - 1) * (self.dilation - 1))) / self.stride_i, 0))\n",
    "        out_j = int(round((1 + J - self.kernel_j - ((self.kernel_j - 1) * (self.dilation - 1))) / self.stride_j, 0))\n",
    "                \n",
    "        shape = (out_i, out_j, self.kernel_i, self.kernel_j)\n",
    "        stride = (*external_stride, internal_i * self.dilation, internal_j * self.dilation)\n",
    "        windows = x.as_strided(size=shape, stride=stride).reshape(out_i, out_j, -1)\n",
    "\n",
    "        output = windows @ self.kernel.view(-1)\n",
    "\n",
    "        return output"
   ]
  },
  {
   "cell_type": "code",
   "execution_count": 36,
   "id": "a57d2fc6",
   "metadata": {},
   "outputs": [],
   "source": [
    "class Conv2Dd(nn.Module):\n",
    "    def __init__(\n",
    "        self, \n",
    "        stride: tuple[int], \n",
    "        kernel: tuple[int], \n",
    "        dilation: int=1, \n",
    "        bias: bool=True,\n",
    "        padding: bool=False\n",
    "    ) -> torch.tensor:\n",
    "        super().__init__()\n",
    "        self.kernel = nn.Parameter(torch.randn((kernel), generator=g), requires_grad=True)\n",
    "        self.dilation = dilation\n",
    "        self.kernel_i, self.kernel_j = kernel\n",
    "        self.stride_i, self.stride_j = stride\n",
    "        self.padding = padding\n",
    "        #self.bias = nn.Parameter(torch.randn((self.output_dim * self.output_dim), generator=g), requires_grad=True)\n",
    "    \n",
    "    def forward(self, x: torch.tensor) -> torch.tensor:\n",
    "        if self.padding:\n",
    "            I, J = x.shape\n",
    "            out_i = int(round((1 + I - self.kernel_i - ((self.kernel_i - 1) * (self.dilation - 1))) / self.stride_i, 0))\n",
    "            out_j = int(round((1 + J - self.kernel_j - ((self.kernel_j - 1) * (self.dilation - 1))) / self.stride_j, 0))\n",
    "            \n",
    "            if [out_i, out_j] != [*x.shape]:\n",
    "                pad_size_i = self.divide_pad(self.kernel.shape[0] - 1)\n",
    "                pad_size_j = self.divide_pad(self.kernel.shape[1] - 1)\n",
    "                x = F.pad(x, (*pad_size_j, *pad_size_i))\n",
    "\n",
    "        I, J = x.shape\n",
    "        \n",
    "        # internal strides (the stride inside the kernel, which is affected by dilation)\n",
    "        internal_i, internal_j = x.stride()\n",
    "        \n",
    "        # external stides (the stride outside the kernel)\n",
    "        external_stride = self.stride_i * internal_i, self.stride_j * internal_j \n",
    "        \n",
    "        # output image dimensions\n",
    "        out_i = int(round((1 + I - self.kernel_i - ((self.kernel_i - 1) * (self.dilation - 1))) / self.stride_i, 0))\n",
    "        out_j = int(round((1 + J - self.kernel_j - ((self.kernel_j - 1) * (self.dilation - 1))) / self.stride_j, 0))\n",
    "                \n",
    "        shape = (out_i, out_j, self.kernel_i, self.kernel_j)\n",
    "        stride = (*external_stride, internal_i * self.dilation, internal_j * self.dilation)\n",
    "        windows = x.as_strided(size=shape, stride=stride).reshape(out_i, out_j, -1)\n",
    "\n",
    "        output = windows @ self.kernel.view(-1)\n",
    "\n",
    "        return output  \n",
    "    \n",
    "    def divide_pad(self, num):\n",
    "        quotient = num // 2  # integer division, equivalent to math.floor(num/2)\n",
    "        remainder = num % 2  # modulo operation, equivalent to num - 2*quotient\n",
    "        return [quotient, quotient + remainder]\n"
   ]
  },
  {
   "cell_type": "code",
   "execution_count": 37,
   "id": "b9dfa97e",
   "metadata": {},
   "outputs": [],
   "source": [
    "class Conv2d(nn.Module):\n",
    "    def __init__(\n",
    "        self, \n",
    "        stride: tuple[int], \n",
    "        kernel: tuple[int], \n",
    "        dilation: int=1, \n",
    "        bias: bool=True,\n",
    "        padding: bool=False\n",
    "    ) -> torch.tensor:\n",
    "        super().__init__()\n",
    "        self.kernel = nn.Parameter(torch.randn((kernel), generator=g), requires_grad=True).to(device)\n",
    "        self.dilation = dilation\n",
    "        self.kernel_i, self.kernel_j = kernel\n",
    "        self.stride_i, self.stride_j = stride\n",
    "        self.padding = padding\n",
    "        self.bias = nn.Parameter(torch.zeros((1,)), requires_grad=True).to(device) if bias is True else 0\n",
    "    \n",
    "    def forward(self, x: torch.tensor) -> torch.tensor:\n",
    "        if self.padding:\n",
    "            pad_size_i = self.divide_pad(self.kernel.shape[0] - 1)\n",
    "            pad_size_j = self.divide_pad(self.kernel.shape[1] - 1)\n",
    "            x = F.pad(x, (*pad_size_j, *pad_size_i))\n",
    "\n",
    "        I, J = x.shape\n",
    "        \n",
    "        # internal strides (the stride inside the kernel, which is affected by dilation)\n",
    "        internal_i, internal_j = x.stride()\n",
    "        \n",
    "        # external stides (the stride outside the kernel)\n",
    "        external_stride = self.stride_i * internal_i, self.stride_j * internal_j \n",
    "        \n",
    "        # output image dimensions\n",
    "        out_i = int(round((1 + I - self.kernel_i - ((self.kernel_i - 1) * (self.dilation - 1))) / self.stride_i, 0))\n",
    "        out_j = int(round((1 + J - self.kernel_j - ((self.kernel_j - 1) * (self.dilation - 1))) / self.stride_j, 0))\n",
    "                \n",
    "        shape = (out_i, out_j, self.kernel_i, self.kernel_j)\n",
    "        stride = (*external_stride, internal_i * self.dilation, internal_j * self.dilation)\n",
    "        windows = x.as_strided(size=shape, stride=stride).reshape(out_i, out_j, -1)\n",
    "\n",
    "        output = (windows @ self.kernel.view(-1)) + self.bias\n",
    "\n",
    "        return output  \n",
    "    \n",
    "    def divide_pad(self, num):\n",
    "        quotient = num // 2 \n",
    "        remainder = num % 2 \n",
    "        return [quotient, quotient + remainder]\n"
   ]
  },
  {
   "cell_type": "code",
   "execution_count": 38,
   "id": "430d7f13",
   "metadata": {},
   "outputs": [],
   "source": [
    "a = torch.randn((10,10,3))"
   ]
  },
  {
   "cell_type": "code",
   "execution_count": 39,
   "id": "3f8e4708",
   "metadata": {},
   "outputs": [
    {
     "data": {
      "text/plain": [
       "torch.Size([2, 10, 10, 3])"
      ]
     },
     "execution_count": 39,
     "metadata": {},
     "output_type": "execute_result"
    }
   ],
   "source": [
    "r = torch.tensor([\n",
    "    [[[1, 2, 3 ], [4, 5, 6 ], [7, 8, 9 ], [10,11,12], [13,14,15], [1,2,3], [1,2,3], [1,2,3], [1,2,3], [1,2,3]],\n",
    "    [[16,17,18], [19,20,21], [22,23,24], [25,26,27], [28,29,30], [1,2,3], [1,2,3], [1,2,3], [1,2,3], [1,2,3]],\n",
    "    [[31,32,33], [34,35,36], [37,38,39], [40,41,42], [43,44,45], [1,2,3], [1,2,3], [1,2,3], [1,2,3], [1,2,3]],\n",
    "    [[46,47,48], [49,50,51], [52,53,54], [55,56,57], [58,59,60], [1,2,3], [1,2,3], [1,2,3], [1,2,3], [1,2,3]],\n",
    "    [[61,62,63], [64,65,66], [67,68,69], [70,71,72], [73,74,75], [1,2,3], [1,2,3], [1,2,3], [1,2,3], [1,2,3]],\n",
    "    [[1,2,3], [1,2,3], [1,2,3], [1,2,3], [1,2,3], [1,2,3], [1,2,3], [1,2,3], [1,2,3], [1,2,3]],\n",
    "    [[1,2,3], [1,2,3], [1,2,3], [1,2,3], [1,2,3], [1,2,3], [1,2,3], [1,2,3], [1,2,3], [1,2,3]],\n",
    "    [[1,2,3], [1,2,3], [1,2,3], [1,2,3], [1,2,3], [1,2,3], [1,2,3], [1,2,3], [1,2,3], [1,2,3]],\n",
    "    [[1,2,3], [1,2,3], [1,2,3], [1,2,3], [1,2,3], [1,2,3], [1,2,3], [1,2,3], [1,2,3], [1,2,3]],\n",
    "    [[1,2,3], [1,2,3], [1,2,3], [1,2,3], [1,2,3], [1,2,3], [1,2,3], [1,2,3], [1,2,3], [1,2,3]]],\n",
    "    \n",
    "    [[[1, 2, 3 ], [4, 5, 6 ], [7, 8, 9 ], [10,11,12], [13,14,15], [1,2,3], [1,2,3], [1,2,3], [1,2,3], [1,2,3]],\n",
    "    [[16,17,18], [19,20,21], [22,23,24], [25,26,27], [28,29,30], [1,2,3], [1,2,3], [1,2,3], [1,2,3], [1,2,3]],\n",
    "    [[31,32,33], [34,35,36], [37,38,39], [40,41,42], [43,44,45], [1,2,3], [1,2,3], [1,2,3], [1,2,3], [1,2,3]],\n",
    "    [[46,47,48], [49,50,51], [52,53,54], [55,56,57], [58,59,60], [1,2,3], [1,2,3], [1,2,3], [1,2,3], [1,2,3]],\n",
    "    [[61,62,63], [64,65,66], [67,68,69], [70,71,72], [73,74,75], [1,2,3], [1,2,3], [1,2,3], [1,2,3], [1,2,3]],\n",
    "    [[1,2,3], [1,2,3], [1,2,3], [1,2,3], [1,2,3], [1,2,3], [1,2,3], [1,2,3], [1,2,3], [1,2,3]],\n",
    "    [[1,2,3], [1,2,3], [1,2,3], [1,2,3], [1,2,3], [1,2,3], [1,2,3], [1,2,3], [1,2,3], [1,2,3]],\n",
    "    [[1,2,3], [1,2,3], [1,2,3], [1,2,3], [1,2,3], [1,2,3], [1,2,3], [1,2,3], [1,2,3], [1,2,3]],\n",
    "    [[1,2,3], [1,2,3], [1,2,3], [1,2,3], [1,2,3], [1,2,3], [1,2,3], [1,2,3], [1,2,3], [1,2,3]],\n",
    "    [[1,2,3], [1,2,3], [1,2,3], [1,2,3], [1,2,3], [1,2,3], [1,2,3], [1,2,3], [1,2,3], [1,2,3]],]\n",
    "])\n",
    "r.shape\n",
    "\n",
    "\n"
   ]
  },
  {
   "cell_type": "code",
   "execution_count": 40,
   "id": "5323607d",
   "metadata": {},
   "outputs": [],
   "source": [
    "class Conv2d1(nn.Module):\n",
    "    def __init__(\n",
    "        self,\n",
    "        in_channels: int,\n",
    "        out_channels: int,\n",
    "        kernel: tuple[int] | int, \n",
    "        stride: tuple[int] | int, \n",
    "        dilation: int=1, \n",
    "        bias: bool=True,\n",
    "        padding: bool=False\n",
    "    ) -> torch.tensor:\n",
    "        super().__init__()\n",
    "        kernel = (kernel, kernel) if type(kernel) is int else kernel\n",
    "        stride = (stride, stride) if type(stride) is int else stride\n",
    "        weight_tensor = torch.randn((out_channels, in_channels * kernel[0] * kernel[1]), generator=g)\n",
    "        self.kernel = nn.Parameter(weight_tensor, requires_grad=True).to(device)\n",
    "        self.bias = nn.Parameter(torch.zeros((out_channels,)), requires_grad=True).to(device) if bias is True else 0\n",
    "        self.out_channels = out_channels\n",
    "        self.dilation = dilation\n",
    "        self.kernel_i, self.kernel_j = kernel\n",
    "        self.stride_i, self.stride_j = stride\n",
    "        self.padding = padding\n",
    "        \n",
    "    def forward(self, x: torch.tensor) -> torch.tensor:\n",
    "        if self.padding:\n",
    "            pad_size_i = self.divide_pad(self.kernel.shape[0] - 1)\n",
    "            pad_size_j = self.divide_pad(self.kernel.shape[1] - 1)\n",
    "            x = F.pad(x, (*pad_size_j, *pad_size_i))\n",
    "\n",
    "        B, C, I, J = x.shape # Batch, Channels, I dim, J dim\n",
    "        \n",
    "        # strides\n",
    "        external_b, external_c, internal_i, internal_j = x.stride()\n",
    "        \n",
    "        # external stides (the stride outside the kernel)\n",
    "        external_stride = external_b, external_c, self.stride_i * internal_i, self.stride_j * internal_j \n",
    "        \n",
    "        # output image dimensions\n",
    "        out_i = math.floor(((I - self.dilation * (self.kernel_i - 1) - 1) / self.stride_i) + 1)\n",
    "        out_j = math.floor(((J - self.dilation * (self.kernel_j - 1) - 1) / self.stride_j) + 1)\n",
    "                \n",
    "        shape = (B, C, out_i, out_j, self.kernel_i, self.kernel_j)\n",
    "        stride = (*external_stride, internal_i * self.dilation, internal_j * self.dilation)\n",
    "\n",
    "        windows = x.as_strided(size=shape, stride=stride).reshape(B, out_i, out_j, C * self.kernel_i * self.kernel_j)\n",
    "        \n",
    "        \n",
    "        output = ((windows @ self.kernel.T) + self.bias).transpose(1, 1)\n",
    "\n",
    "        return output\n",
    "    \n",
    "    def divide_pad(self, num):\n",
    "        quotient = num // 2 \n",
    "        remainder = num % 2 \n",
    "        return [quotient, quotient + remainder]\n"
   ]
  },
  {
   "cell_type": "code",
   "execution_count": 41,
   "id": "2e630aad",
   "metadata": {},
   "outputs": [
    {
     "ename": "NameError",
     "evalue": "name 'self' is not defined",
     "output_type": "error",
     "traceback": [
      "\u001b[1;31m---------------------------------------------------------------------------\u001b[0m",
      "\u001b[1;31mNameError\u001b[0m                                 Traceback (most recent call last)",
      "Cell \u001b[1;32mIn[41], line 2\u001b[0m\n\u001b[0;32m      1\u001b[0m \u001b[38;5;66;03m#Output Height = ((Input Height + (2 * Padding) - ((Kernel Height - 1) * Dilation + 1)) / Stride) + 1\u001b[39;00m\n\u001b[1;32m----> 2\u001b[0m math\u001b[38;5;241m.\u001b[39mfloor(((\u001b[38;5;241m50\u001b[39m \u001b[38;5;241m-\u001b[39m \u001b[38;5;241m20\u001b[39m \u001b[38;5;241m*\u001b[39m (\u001b[38;5;241m5\u001b[39m \u001b[38;5;241m-\u001b[39m \u001b[38;5;241m1\u001b[39m) \u001b[38;5;241m-\u001b[39m \u001b[38;5;241m1\u001b[39m) \u001b[38;5;241m/\u001b[39m \u001b[38;5;28;43mself\u001b[39;49m\u001b[38;5;241m.\u001b[39mstride_i) \u001b[38;5;241m+\u001b[39m \u001b[38;5;241m1\u001b[39m)\n\u001b[0;32m      3\u001b[0m out_i\n",
      "\u001b[1;31mNameError\u001b[0m: name 'self' is not defined"
     ]
    }
   ],
   "source": [
    "#Output Height = ((Input Height + (2 * Padding) - ((Kernel Height - 1) * Dilation + 1)) / Stride) + 1\n",
    "math.floor(((50 - 20 * (5 - 1) - 1) / self.stride_i) + 1)\n",
    "out_i"
   ]
  },
  {
   "cell_type": "code",
   "execution_count": null,
   "id": "abefd83c",
   "metadata": {},
   "outputs": [],
   "source": [
    "cv =    Conv2d1(3,4,kernel=3,stride=15, dilation=20)\n",
    "cv2 = nn.Conv2d(3,4,kernel_size=3,stride=15, dilation=20)"
   ]
  },
  {
   "cell_type": "code",
   "execution_count": null,
   "id": "545af828",
   "metadata": {},
   "outputs": [],
   "source": [
    "k = 5\n",
    "s = 5\n",
    "d = 2\n",
    "cv =    Conv2d1(3,4,kernel=k,stride=s, dilation=d)\n",
    "cv2 = nn.Conv2d(3,4,kernel_size=k,stride=s, dilation=d)"
   ]
  },
  {
   "cell_type": "code",
   "execution_count": null,
   "id": "0ff1e1f8",
   "metadata": {},
   "outputs": [],
   "source": [
    "inpt = torch.randn((12,3,50,50)).to(device)\n",
    "s1 = cv(inpt).shape\n",
    "s2 = cv2(inpt.to('cpu')).shape\n",
    "\n",
    "print(s1, s2)"
   ]
  },
  {
   "cell_type": "code",
   "execution_count": 16,
   "id": "4c8ab885",
   "metadata": {},
   "outputs": [
    {
     "name": "stdout",
     "output_type": "stream",
     "text": [
      "(16, 4, 1)\n",
      "tensor([[[ 2,  3,  2],\n",
      "         [ 1,  3,  2],\n",
      "         [10, 11, 12],\n",
      "         [ 1,  3,  2]],\n",
      "\n",
      "        [[ 6,  3,  2],\n",
      "         [ 1,  3,  2],\n",
      "         [ 1,  4,  2],\n",
      "         [ 1,  3,  2]],\n",
      "\n",
      "        [[ 1,  3,  2],\n",
      "         [ 1,  3,  2],\n",
      "         [ 1,  3,  2],\n",
      "         [ 1,  3,  2]],\n",
      "\n",
      "        [[ 1,  3,  2],\n",
      "         [ 1,  3,  2],\n",
      "         [ 1,  3,  2],\n",
      "         [ 0,  8,  9]]])\n",
      "(4, 1, 16)\n",
      "tensor([[ 2,  3,  2],\n",
      "        [ 1,  3,  2],\n",
      "        [10, 11, 12]])\n"
     ]
    }
   ],
   "source": [
    "img = torch.tensor([\n",
    "    [[2, 1, 10, 1],\n",
    "    [6, 1, 1, 1],\n",
    "    [1, 1, 1, 1],\n",
    "    [1, 1, 1, 0]],\n",
    "    \n",
    "    [[3,3,11,3],\n",
    "     [3,3,4,3],\n",
    "     [3,3,3,3],\n",
    "     [3,3,3,8]],\n",
    "    \n",
    "    [[2,2,12,2],\n",
    "     [2,2,2,2],\n",
    "    [2,2,2,2],\n",
    "   [2,2,2,9]]\n",
    "])\n",
    "print(img.stride())\n",
    "r = img.as_strided(size=(3, 16), stride=(16,1)).as_strided(size=(4,4,3), stride=(4, 1, 16))\n",
    "print(r)\n",
    "print(r.stride())\n",
    "\n",
    "print(r.as_strided(size=(3,3), stride=(1,16)))"
   ]
  },
  {
   "cell_type": "code",
   "execution_count": 17,
   "id": "2a4c5b5d",
   "metadata": {},
   "outputs": [
    {
     "ename": "AttributeError",
     "evalue": "'Tensor' object has no attribute 'shapedd'",
     "output_type": "error",
     "traceback": [
      "\u001b[1;31m---------------------------------------------------------------------------\u001b[0m",
      "\u001b[1;31mAttributeError\u001b[0m                            Traceback (most recent call last)",
      "Cell \u001b[1;32mIn[17], line 2\u001b[0m\n\u001b[0;32m      1\u001b[0m t \u001b[38;5;241m=\u001b[39m nn\u001b[38;5;241m.\u001b[39mConv2d(\u001b[38;5;241m3\u001b[39m, \u001b[38;5;241m1\u001b[39m, \u001b[38;5;241m2\u001b[39m, \u001b[38;5;241m1\u001b[39m)\n\u001b[1;32m----> 2\u001b[0m \u001b[43mt\u001b[49m\u001b[43m(\u001b[49m\u001b[43mtorch\u001b[49m\u001b[38;5;241;43m.\u001b[39;49m\u001b[43mrandn\u001b[49m\u001b[43m(\u001b[49m\u001b[38;5;241;43m3\u001b[39;49m\u001b[43m,\u001b[49m\u001b[38;5;241;43m3\u001b[39;49m\u001b[43m,\u001b[49m\u001b[38;5;241;43m3\u001b[39;49m\u001b[43m)\u001b[49m\u001b[43m)\u001b[49m\u001b[38;5;241;43m.\u001b[39;49m\u001b[43mshapedd\u001b[49m\n",
      "\u001b[1;31mAttributeError\u001b[0m: 'Tensor' object has no attribute 'shapedd'"
     ]
    }
   ],
   "source": [
    "t = nn.Conv2d(3, 1, 2, 1)\n",
    "t(torch.randn(3,3,3)).shapedd"
   ]
  },
  {
   "cell_type": "code",
   "execution_count": 176,
   "id": "1b9d2679",
   "metadata": {},
   "outputs": [
    {
     "data": {
      "text/plain": [
       "torch.Size([2, 3, 11, 10])"
      ]
     },
     "execution_count": 176,
     "metadata": {},
     "output_type": "execute_result"
    }
   ],
   "source": [
    "inp2 = torch.tensor([[\n",
    "    [[1, 2, 3, 4, 5, 6, 7, 8, 9, 10],\n",
    " [11, 12, 13, 14, 15, 16, 17, 18, 19, 20],\n",
    " [21, 22, 23, 24, 25, 26, 27, 28, 29, 30],\n",
    " [31, 32, 33, 34, 35, 36, 37, 38, 39, 40],\n",
    " [41, 42, 43, 44, 45, 46, 47, 48, 49, 50],\n",
    " [51, 52, 53, 54, 55, 56, 57, 58, 59, 60],\n",
    " [61, 62, 63, 64, 65, 66, 67, 68, 69, 70],\n",
    " [71, 72, 73, 74, 75, 76, 77, 78, 79, 80],\n",
    " [81, 82, 83, 84, 85, 86, 87, 88, 89, 90],\n",
    " [91, 92, 93, 94, 95, 96, 97, 98, 99, 100],\n",
    " [91, 92, 93, 94, 95, 96, 97, 98, 99, 100]],\n",
    " [[-1, -2, -3, -4, -5, -6, -7, -8, -9, -10],\n",
    " [-11, -12, -13, -14, -15, -16, -17, -18, -19, -20],\n",
    " [-21, -22, -23, -24, -25, -26, -27, -28, -29, -30],\n",
    " [-31, -32, -33, -34, -35, -36, -37, -38, -39, -40],\n",
    " [-41, -42, -43, -44, -45, -46, -47, -48, -49, -50],\n",
    " [-51, -52, -53, -54, -55, -56, -57, -58, -59, -60],\n",
    " [-61, -62, -63, -64, -65, -66, -67, -68, -69, -70],\n",
    " [-71, -72, -73, -74, -75, -76, -77, -78, -79, -80],\n",
    " [-81, -82, -83, -84, -85, -86, -87, -88, -89, -90],\n",
    "[-91, -92, -93, -94, -95, -96, -97, -98, -99, -100],\n",
    " [-91, -92, -93, -94, -95, -96, -97, -98, -99, -100]],\n",
    "    [[1, 1, 1, 1, 1, 1, 1, 1, 1, 1],\n",
    "    [1, 1, 1, 1, 1, 1, 1, 1, 1, 1],\n",
    "    [1, 1, 1, 1, 1, 1, 1, 1, 1, 1],\n",
    "    [1, 1, 1, 1, 1, 1, 1, 1, 1, 1],\n",
    "    [1, 1, 1, 1, 1, 1, 1, 1, 1, 1],\n",
    "    [1, 1, 1, 1, 1, 1, 1, 1, 1, 1],\n",
    "    [1, 1, 1, 1, 1, 1, 1, 1, 1, 1],\n",
    "    [1, 1, 1, 1, 1, 1, 1, 1, 1, 1],\n",
    "    [1, 1, 1, 1, 1, 1, 1, 1, 1, 1],\n",
    "     [1, 1, 1, 1, 1, 1, 1, 1, 1, 1],\n",
    "    [1, 1, 1, 1, 1, 1, 1, 1, 1, 1]]\n",
    "],\n",
    "[\n",
    "    [[1, 2, 3, 4, 5, 6, 7, 8, 9, 10],\n",
    " [11, 12, 13, 14, 15, 16, 17, 18, 19, 20],\n",
    " [21, 22, 23, 24, 25, 26, 27, 28, 29, 30],\n",
    " [31, 32, 33, 34, 35, 36, 37, 38, 39, 40],\n",
    " [41, 42, 43, 44, 45, 46, 47, 48, 49, 50],\n",
    " [51, 52, 53, 54, 55, 56, 57, 58, 59, 60],\n",
    " [61, 62, 63, 64, 65, 66, 67, 68, 69, 70],\n",
    " [71, 72, 73, 74, 75, 76, 77, 78, 79, 80],\n",
    " [81, 82, 83, 84, 85, 86, 87, 88, 89, 90],\n",
    " [91, 92, 93, 94, 95, 96, 97, 98, 99, 100],\n",
    "[91, 92, 93, 94, 95, 96, 97, 98, 99, 100]],\n",
    " [[-1, -2, -3, -4, -5, -6, -7, -8, -9, -10],\n",
    " [-11, -12, -13, -14, -15, -16, -17, -18, -19, -20],\n",
    " [-21, -22, -23, -24, -25, -26, -27, -28, -29, -30],\n",
    " [-31, -32, -33, -34, -35, -36, -37, -38, -39, -40],\n",
    " [-41, -42, -43, -44, -45, -46, -47, -48, -49, -50],\n",
    " [-51, -52, -53, -54, -55, -56, -57, -58, -59, -60],\n",
    " [-61, -62, -63, -64, -65, -66, -67, -68, -69, -70],\n",
    " [-71, -72, -73, -74, -75, -76, -77, -78, -79, -80],\n",
    " [-81, -82, -83, -84, -85, -86, -87, -88, -89, -90],\n",
    "  [-91, -92, -93, -94, -95, -96, -97, -98, -99, -100],\n",
    " [-91, -92, -93, -94, -95, -96, -97, -98, -99, -100]],\n",
    "    [[1, 1, 1, 1, 1, 1, 1, 1, 1, 1],\n",
    "    [1, 1, 1, 1, 1, 1, 1, 1, 1, 1],\n",
    "    [1, 1, 1, 1, 1, 1, 1, 1, 1, 1],\n",
    "    [1, 1, 1, 1, 1, 1, 1, 1, 1, 1],\n",
    "    [1, 1, 1, 1, 1, 1, 1, 1, 1, 1],\n",
    "    [1, 1, 1, 1, 1, 1, 1, 1, 1, 1],\n",
    "    [1, 1, 1, 1, 1, 1, 1, 1, 1, 1],\n",
    "    [1, 1, 1, 1, 1, 1, 1, 1, 1, 1],\n",
    "    [1, 1, 1, 1, 1, 1, 1, 1, 1, 1],\n",
    "    [1, 1, 1, 1, 1, 1, 1, 1, 1, 1],\n",
    "    [5, 6, 7, 8, 9, 10, 11, 12, 13, 14]]\n",
    "]]\n",
    ")\n",
    "inp2.shape"
   ]
  },
  {
   "cell_type": "code",
   "execution_count": 177,
   "id": "d944a368",
   "metadata": {
    "scrolled": true
   },
   "outputs": [],
   "source": [
    "ker2 = torch.tensor([\n",
    "    \n",
    "    [\n",
    "        \n",
    "    [[2, 2, 2, 2, 2],\n",
    "     [2, 2, 2, 2, 2],\n",
    "     [2, 2, 2, 2, 2],\n",
    "     [2, 2, 2, 2, 2],\n",
    "     [2, 2, 2, 2, 2],\n",
    "    ],\n",
    "    [[10, 10, 10, 10, 10],\n",
    "    [10, 10, 10, 10, 10],\n",
    "    [10, 10, 10, 10, 10],\n",
    "    [10, 10, 10, 10, 10],\n",
    "    [10, 10, 10, 10, 10],\n",
    "    ],\n",
    "    [[3, 3, 3, 3, 3],\n",
    "    [3, 3, 3, 3, 3],\n",
    "    [3, 3, 3, 3, 3],\n",
    "    [3, 3, 3, 3, 3],\n",
    "    [3, 3, 3, 3, 3],]\n",
    "    \n",
    "    ],\n",
    "    \n",
    "    [\n",
    "        \n",
    "    [[2, 2, 2, 2, 2],\n",
    "     [2, 2, 2, 2, 2],\n",
    "     [2, 2, 2, 2, 2],\n",
    "     [2, 2, 2, 2, 2],\n",
    "     [2, 2, 2, 2, 2],\n",
    "    ],\n",
    "    [[10, 10, 10, 10, 10],\n",
    "    [10, 10, 10, 10, 10],\n",
    "    [10, 10, 10, 10, 10],\n",
    "    [10, 10, 10, 10, 10],\n",
    "    [10, 10, 10, 10, 10],\n",
    "    ],\n",
    "    [[3, 3, 3, 3, 3],\n",
    "    [3, 3, 3, 3, 3],\n",
    "    [3, 3, 3, 3, 3],\n",
    "    [3, 3, 3, 3, 3],\n",
    "    [3, 3, 3, 3, 3]]\n",
    "\n",
    "    ],\n",
    "    \n",
    "    [\n",
    "        \n",
    "    [[0, 0, 0, 0, 0],\n",
    " [0, 0, 0, 0, 0],\n",
    " [0, 0, 0, 0, 0],\n",
    " [0, 0, 0, 0, 0],\n",
    " [0, 0, 0, 0, 0]],\n",
    "    [[0, 0, 0, 0, 0],\n",
    " [0, 0, 0, 0, 0],\n",
    " [0, 0, 0, 0, 0],\n",
    " [0, 0, 0, 0, 0],\n",
    " [0, 0, 0, 0, 0]],\n",
    "    [[0, 0, 0, 0, 0],\n",
    " [0, 0, 0, 0, 0],\n",
    " [0, 0, 0, 0, 0],\n",
    " [0, 0, 0, 0, 0],\n",
    " [0, 0, 0, 0, 0]],\n",
    "\n",
    "    ],\n",
    "    [\n",
    "        \n",
    "    [[2, 2, 2, 2, 2],\n",
    "     [2, 2, 2, 2, 2],\n",
    "     [2, 2, 2, 2, 2],\n",
    "     [2, 2, 2, 2, 2],\n",
    "     [2, 2, 2, 2, 2],\n",
    "    ],\n",
    "    [[10, 10, 10, 10, 10],\n",
    "    [10, 10, 10, 10, 10],\n",
    "    [10, 10, 10, 10, 10],\n",
    "    [10, 10, 10, 10, 10],\n",
    "    [10, 10, 10, 10, 10],\n",
    "    ],\n",
    "    [[3, 3, 3, 3, 3],\n",
    "    [3, 3, 3, 3, 3],\n",
    "    [3, 3, 3, 3, 3],\n",
    "    [3, 3, 3, 3, 3],\n",
    "    [3, 3, 3, 3, 3]]\n",
    "\n",
    "    ],\n",
    "    [[[1, 1, 1, 1, 1],\n",
    "  [1, 1, 1, 1, 1],\n",
    "  [1, 1, 1, 1, 1],\n",
    "  [1, 1, 1, 1, 1],\n",
    "  [1, 1, 1, 1, 1]],\n",
    " [[1, 1, 1, 1, 1],\n",
    "  [1, 1, 1, 1, 1],\n",
    "  [1, 1, 1, 1, 1],\n",
    "  [1, 1, 1, 1, 1],\n",
    "  [1, 1, 1, 1, 1]],\n",
    " [[2, 2, 2, 2, 2],\n",
    "  [2, 2, 2, 2, 2],\n",
    "  [1, 1, 1, 1, 1],\n",
    "  [1, 1, 1, 1, 1],\n",
    "  [1, 1, 1, 1, 1]]]\n",
    "\n",
    "])"
   ]
  },
  {
   "cell_type": "code",
   "execution_count": 178,
   "id": "490fd780",
   "metadata": {},
   "outputs": [
    {
     "data": {
      "text/plain": [
       "torch.Size([1, 1, 7, 6])"
      ]
     },
     "execution_count": 178,
     "metadata": {},
     "output_type": "execute_result"
    }
   ],
   "source": [
    "r = torch.randn((1, 3, 11, 10))\n",
    "p = nn.Conv2d(3, 1, kernel_size=5, stride=1)\n",
    "\n",
    "p(r).shape"
   ]
  },
  {
   "cell_type": "code",
   "execution_count": 179,
   "id": "09974d88",
   "metadata": {},
   "outputs": [
    {
     "data": {
      "text/plain": [
       "(330, 110, 10, 1)"
      ]
     },
     "execution_count": 179,
     "metadata": {},
     "output_type": "execute_result"
    }
   ],
   "source": [
    "inp2.stride()"
   ]
  },
  {
   "cell_type": "code",
   "execution_count": 180,
   "id": "4596c5cf",
   "metadata": {},
   "outputs": [],
   "source": [
    "\n",
    "wind = inp2.as_strided(stride=(330, 10, 1, 110, 10, 1), size=(2,7,6,3,5,5)).float()\n",
    "ker2 = ker2.float()\n"
   ]
  },
  {
   "cell_type": "code",
   "execution_count": 181,
   "id": "826a8f9f",
   "metadata": {},
   "outputs": [
    {
     "data": {
      "text/plain": [
       "tensor([[[[ -4525.,  -4725.,  -4925.,  -5125.,  -5325.,  -5525.],\n",
       "          [ -6525.,  -6725.,  -6925.,  -7125.,  -7325.,  -7525.],\n",
       "          [ -8525.,  -8725.,  -8925.,  -9125.,  -9325.,  -9525.],\n",
       "          [-10525., -10725., -10925., -11125., -11325., -11525.],\n",
       "          [-12525., -12725., -12925., -13125., -13325., -13525.],\n",
       "          [-14525., -14725., -14925., -15125., -15325., -15525.],\n",
       "          [-16125., -16325., -16525., -16725., -16925., -17125.]],\n",
       "\n",
       "         [[ -4525.,  -4725.,  -4925.,  -5125.,  -5325.,  -5525.],\n",
       "          [ -6525.,  -6725.,  -6925.,  -7125.,  -7325.,  -7525.],\n",
       "          [ -8525.,  -8725.,  -8925.,  -9125.,  -9325.,  -9525.],\n",
       "          [-10525., -10725., -10925., -11125., -11325., -11525.],\n",
       "          [-12525., -12725., -12925., -13125., -13325., -13525.],\n",
       "          [-14525., -14725., -14925., -15125., -15325., -15525.],\n",
       "          [-16125., -16325., -16525., -16725., -16925., -17125.]],\n",
       "\n",
       "         [[     0.,      0.,      0.,      0.,      0.,      0.],\n",
       "          [     0.,      0.,      0.,      0.,      0.,      0.],\n",
       "          [     0.,      0.,      0.,      0.,      0.,      0.],\n",
       "          [     0.,      0.,      0.,      0.,      0.,      0.],\n",
       "          [     0.,      0.,      0.,      0.,      0.,      0.],\n",
       "          [     0.,      0.,      0.,      0.,      0.,      0.],\n",
       "          [     0.,      0.,      0.,      0.,      0.,      0.]],\n",
       "\n",
       "         [[ -4525.,  -4725.,  -4925.,  -5125.,  -5325.,  -5525.],\n",
       "          [ -6525.,  -6725.,  -6925.,  -7125.,  -7325.,  -7525.],\n",
       "          [ -8525.,  -8725.,  -8925.,  -9125.,  -9325.,  -9525.],\n",
       "          [-10525., -10725., -10925., -11125., -11325., -11525.],\n",
       "          [-12525., -12725., -12925., -13125., -13325., -13525.],\n",
       "          [-14525., -14725., -14925., -15125., -15325., -15525.],\n",
       "          [-16125., -16325., -16525., -16725., -16925., -17125.]],\n",
       "\n",
       "         [[    35.,     35.,     35.,     35.,     35.,     35.],\n",
       "          [    35.,     35.,     35.,     35.,     35.,     35.],\n",
       "          [    35.,     35.,     35.,     35.,     35.,     35.],\n",
       "          [    35.,     35.,     35.,     35.,     35.,     35.],\n",
       "          [    35.,     35.,     35.,     35.,     35.,     35.],\n",
       "          [    35.,     35.,     35.,     35.,     35.,     35.],\n",
       "          [    35.,     35.,     35.,     35.,     35.,     35.]]],\n",
       "\n",
       "\n",
       "        [[[ -4525.,  -4725.,  -4925.,  -5125.,  -5325.,  -5525.],\n",
       "          [ -6525.,  -6725.,  -6925.,  -7125.,  -7325.,  -7525.],\n",
       "          [ -8525.,  -8725.,  -8925.,  -9125.,  -9325.,  -9525.],\n",
       "          [-10525., -10725., -10925., -11125., -11325., -11525.],\n",
       "          [-12525., -12725., -12925., -13125., -13325., -13525.],\n",
       "          [-14525., -14725., -14925., -15125., -15325., -15525.],\n",
       "          [-16035., -16220., -16405., -16590., -16775., -16960.]],\n",
       "\n",
       "         [[ -4525.,  -4725.,  -4925.,  -5125.,  -5325.,  -5525.],\n",
       "          [ -6525.,  -6725.,  -6925.,  -7125.,  -7325.,  -7525.],\n",
       "          [ -8525.,  -8725.,  -8925.,  -9125.,  -9325.,  -9525.],\n",
       "          [-10525., -10725., -10925., -11125., -11325., -11525.],\n",
       "          [-12525., -12725., -12925., -13125., -13325., -13525.],\n",
       "          [-14525., -14725., -14925., -15125., -15325., -15525.],\n",
       "          [-16035., -16220., -16405., -16590., -16775., -16960.]],\n",
       "\n",
       "         [[     0.,      0.,      0.,      0.,      0.,      0.],\n",
       "          [     0.,      0.,      0.,      0.,      0.,      0.],\n",
       "          [     0.,      0.,      0.,      0.,      0.,      0.],\n",
       "          [     0.,      0.,      0.,      0.,      0.,      0.],\n",
       "          [     0.,      0.,      0.,      0.,      0.,      0.],\n",
       "          [     0.,      0.,      0.,      0.,      0.,      0.],\n",
       "          [     0.,      0.,      0.,      0.,      0.,      0.]],\n",
       "\n",
       "         [[ -4525.,  -4725.,  -4925.,  -5125.,  -5325.,  -5525.],\n",
       "          [ -6525.,  -6725.,  -6925.,  -7125.,  -7325.,  -7525.],\n",
       "          [ -8525.,  -8725.,  -8925.,  -9125.,  -9325.,  -9525.],\n",
       "          [-10525., -10725., -10925., -11125., -11325., -11525.],\n",
       "          [-12525., -12725., -12925., -13125., -13325., -13525.],\n",
       "          [-14525., -14725., -14925., -15125., -15325., -15525.],\n",
       "          [-16035., -16220., -16405., -16590., -16775., -16960.]],\n",
       "\n",
       "         [[    35.,     35.,     35.,     35.,     35.,     35.],\n",
       "          [    35.,     35.,     35.,     35.,     35.,     35.],\n",
       "          [    35.,     35.,     35.,     35.,     35.,     35.],\n",
       "          [    35.,     35.,     35.,     35.,     35.,     35.],\n",
       "          [    35.,     35.,     35.,     35.,     35.,     35.],\n",
       "          [    35.,     35.,     35.,     35.,     35.,     35.],\n",
       "          [    65.,     70.,     75.,     80.,     85.,     90.]]]])"
      ]
     },
     "execution_count": 181,
     "metadata": {},
     "output_type": "execute_result"
    }
   ],
   "source": [
    "(wind.reshape(2, 7, 6, -1) @ ker2.view(5, -1).T).transpose(-1, 1).transpose(2, -1)\n"
   ]
  },
  {
   "cell_type": "code",
   "execution_count": 98,
   "id": "831358a7",
   "metadata": {},
   "outputs": [
    {
     "data": {
      "text/plain": [
       "tensor([[-545.],\n",
       "        [-545.],\n",
       "        [   0.],\n",
       "        [-545.],\n",
       "        [-235.]])"
      ]
     },
     "execution_count": 98,
     "metadata": {},
     "output_type": "execute_result"
    }
   ],
   "source": [
    "ker2.view(5, 75) @ wind[0][0][0].reshape(75,-1)"
   ]
  },
  {
   "cell_type": "code",
   "execution_count": null,
   "id": "41c75813",
   "metadata": {},
   "outputs": [],
   "source": [
    "print(wind.shape, ker2.shape)"
   ]
  },
  {
   "cell_type": "code",
   "execution_count": null,
   "id": "39b6086a",
   "metadata": {},
   "outputs": [],
   "source": [
    "win = torch.tensor([[\n",
    "    [\n",
    "    [1,2,3],\n",
    "    [4,5,6],\n",
    "    [7,8,9]\n",
    "    ],\n",
    "    [\n",
    "    [1,2,3],\n",
    "    [4,5,6],\n",
    "    [7,8,9]\n",
    "    ],\n",
    "    [\n",
    "    [10,10,10],\n",
    "    [10,10,10],\n",
    "    [10,10,10],\n",
    "    ]\n",
    "],\n",
    "    [\n",
    "    [\n",
    "   [10,10,10],\n",
    "    [10,10,10],\n",
    "    [10,10,10],\n",
    "    ],\n",
    "    [\n",
    "  [10,10,10],\n",
    "    [10,10,10],\n",
    "    [10,10,10],\n",
    "    ],\n",
    "    [\n",
    "    [10,10,10],\n",
    "    [10,10,10],\n",
    "    [10,10,10],\n",
    "    ]\n",
    "],]\n",
    "    \n",
    "    \n",
    ")\n",
    "\n",
    "k = torch.tensor([[\n",
    "    [[1,1,1],\n",
    "    [2,2,2],\n",
    "    [3,3,3]],\n",
    "    \n",
    "    [[0,0,0],\n",
    "    [1,1,1],\n",
    "    [100,100,100]],\n",
    "\n",
    "    [\n",
    "    [-100, -100, -100],\n",
    "    [-100, -100, -100],\n",
    "    [-100, -100, -100],\n",
    "    ],\n",
    "],\n",
    "    [[[1,1,1],\n",
    "    [2,2,2],\n",
    "    [3,3,3]],\n",
    "    \n",
    "    [[0,0,0],\n",
    "    [1,1,1],\n",
    "    [100,100,100]],\n",
    "\n",
    "    [\n",
    "    [-100, -100, -100],\n",
    "    [-100, -100, -100],\n",
    "    [-100, -100, -100],\n",
    "    ]],\n",
    "     [[[1,1,1],\n",
    "    [2,2,2],\n",
    "    [3,3,3]],\n",
    "    \n",
    "    [[0,0,0],\n",
    "    [1,1,1],\n",
    "    [100,100,100]],\n",
    "\n",
    "    [\n",
    "    [-100, -100, -100],\n",
    "    [-100, -100, -100],\n",
    "    [-100, -100, -100],\n",
    "    ]]\n",
    "])"
   ]
  },
  {
   "cell_type": "code",
   "execution_count": null,
   "id": "8219a139",
   "metadata": {},
   "outputs": [],
   "source": [
    "win.view(2, -1) \n",
    "    "
   ]
  },
  {
   "cell_type": "code",
   "execution_count": null,
   "id": "a30770b7",
   "metadata": {},
   "outputs": [],
   "source": [
    "(win.view(2, -1) @ k.view(3, -1).T)"
   ]
  },
  {
   "cell_type": "code",
   "execution_count": null,
   "id": "dd9bd337",
   "metadata": {},
   "outputs": [],
   "source": [
    "(ker2.view(4, 75) @ wind.reshape(75, -1, 2) )"
   ]
  },
  {
   "cell_type": "code",
   "execution_count": null,
   "id": "2679da17",
   "metadata": {},
   "outputs": [],
   "source": []
  },
  {
   "cell_type": "code",
   "execution_count": null,
   "id": "bfc6d5d3",
   "metadata": {},
   "outputs": [],
   "source": []
  },
  {
   "cell_type": "code",
   "execution_count": null,
   "id": "b7570668",
   "metadata": {},
   "outputs": [],
   "source": [
    "class Conv2d(nn.Module):\n",
    "    def __init__(\n",
    "        self,\n",
    "        in_channels: int,\n",
    "        out_channels: int,\n",
    "        kernel: tuple[int] | int, \n",
    "        stride: tuple[int] | int, \n",
    "        dilation: int=1, \n",
    "        bias: bool=True,\n",
    "        padding: bool=False\n",
    "    ) -> None:\n",
    "        super().__init__()\n",
    "        kernel = (kernel, kernel) if type(kernel) is int else kernel\n",
    "        stride = (stride, stride) if type(stride) is int else stride                                   \n",
    "        \n",
    "        k = math.sqrt((1 / (in_channels * kernel[0] * kernel[1]))) # interval for optimal initialization\n",
    "        \n",
    "        weight_tensor = torch.randn((out_channels, in_channels * kernel[0] * kernel[1]), generator=g).uniform_(-k, k)\n",
    "        self.kernel = nn.Parameter(weight_tensor, requires_grad=True).to(device)\n",
    "        \n",
    "        bias_tensor = torch.randn((out_channels,)).uniform_(-k, k)\n",
    "        self.bias = nn.Parameter(bias_tensor, requires_grad=True).to(device) if bias is True else 0\n",
    "        \n",
    "        self.out_channels = out_channels\n",
    "        self.dilation = dilation\n",
    "        self.kernel_i, self.kernel_j = kernel\n",
    "        self.stride_i, self.stride_j = stride\n",
    "        self.padding = padding\n",
    "        \n",
    "    def forward(self, x: torch.tensor) -> torch.tensor:\n",
    "        if self.padding:\n",
    "            pad_size_i = self.divide_pad(self.kernel.shape[0] - 1)\n",
    "            pad_size_j = self.divide_pad(self.kernel.shape[1] - 1)\n",
    "            x = F.pad(x, (*pad_size_j, *pad_size_i))\n",
    "\n",
    "        B, C, I, J = x.shape # Batch, Channels, I dim, J dim\n",
    "        \n",
    "        # strides\n",
    "        external_b, external_c, internal_i, internal_j = x.stride()\n",
    "        \n",
    "        # external stides (the stride outside the kernel)\n",
    "        external_stride = external_b, external_c, self.stride_i * internal_i, self.stride_j * internal_j \n",
    "        \n",
    "        # output image dimensions\n",
    "        out_i = math.floor(((I - self.dilation * (self.kernel_i - 1) - 1) / self.stride_i) + 1)\n",
    "        out_j = math.floor(((J - self.dilation * (self.kernel_j - 1) - 1) / self.stride_j) + 1)\n",
    "                \n",
    "        shape = (B, C, out_i, out_j, self.kernel_i, self.kernel_j)\n",
    "        stride = (*external_stride, internal_i * self.dilation, internal_j * self.dilation)\n",
    "\n",
    "        windows = x.as_strided(size=shape, stride=stride).reshape(B, out_i, out_j, C * self.kernel_i * self.kernel_j)\n",
    "        \n",
    "        \n",
    "        output = ((windows @ self.kernel.T) + self.bias).transpose(1, -1).transpose(2, -1)\n",
    "\n",
    "        return output\n",
    "    \n",
    "    def divide_pad(self, num):\n",
    "        quotient = num // 2 \n",
    "        remainder = num % 2 \n",
    "        return [quotient, quotient + remainder]\n"
   ]
  }
 ],
 "metadata": {
  "kernelspec": {
   "display_name": "Python 3 (ipykernel)",
   "language": "python",
   "name": "python3"
  },
  "language_info": {
   "codemirror_mode": {
    "name": "ipython",
    "version": 3
   },
   "file_extension": ".py",
   "mimetype": "text/x-python",
   "name": "python",
   "nbconvert_exporter": "python",
   "pygments_lexer": "ipython3",
   "version": "3.11.2"
  }
 },
 "nbformat": 4,
 "nbformat_minor": 5
}
